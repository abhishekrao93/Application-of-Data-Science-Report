{
 "cells": [
  {
   "cell_type": "code",
   "execution_count": 116,
   "metadata": {},
   "outputs": [],
   "source": [
    "#Function to get each mvie Review\n",
    "def Get_reviews(url):\n",
    "    response=get(url)\n",
    "    html_soup=BeautifulSoup(response.text,'html.parser')\n",
    "    type(html_soup)\n",
    "    movie_containers =html_soup.find_all('div',class_ = 'lister-item mode-detail imdb-user-review collapsable')\n",
    "\n",
    "    description =[]\n",
    "    for container in movie_containers:               \n",
    "        text=container.find('div',class_ =\"text show-more__control\").text\n",
    "        description.append((text))\n",
    "    return description    \n",
    "   \n",
    "url1 =\"https://www.imdb.com/search/title/?title_type=feature&release_date=2019-10-01,&user_rating=7.0,10.0\" #Top rated movies released in October\n",
    "url2=\"https://www.imdb.com/search/title/?title_type=feature&release_date=2019-10-01,2019-10-31&user_rating=1.0,5.0\" #least rated movies released in October 2019\n",
    "#url =\"https://www.imdb.com/search/title/?title_type=feature,tv_movie&release_date=2019-10-01,2019-10-31\"\n"
   ]
  },
  {
   "cell_type": "code",
   "execution_count": 117,
   "metadata": {},
   "outputs": [
    {
     "data": {
      "text/plain": [
       "100"
      ]
     },
     "execution_count": 117,
     "metadata": {},
     "output_type": "execute_result"
    }
   ],
   "source": [
    "from requests import get\n",
    "from bs4 import BeautifulSoup\n",
    "import re\n",
    "\n",
    "movie=[]\n",
    "#For high rated movie\n",
    "response=get(url1)\n",
    "html_soup=BeautifulSoup(response.text,'html.parser')\n",
    "type(html_soup)\n",
    "movie_containers =html_soup.find_all('div',class_ = 'lister-item mode-advanced')\n",
    "\n",
    "for container in movie_containers:\n",
    "    text=container.find('div',class_ =\"ribbonize\")\n",
    "    movie.append((text)) #Getting the code of each movie in the url page\n",
    "    #print(movie)\n",
    "    \n",
    "\n",
    "#For Low rated movie\n",
    "response=get(url2)\n",
    "html_soup=BeautifulSoup(response.text,'html.parser')\n",
    "type(html_soup)\n",
    "movie_containers =html_soup.find_all('div',class_ = 'lister-item mode-advanced')\n",
    "\n",
    "for container in movie_containers:\n",
    "    text=container.find('div',class_ =\"ribbonize\")\n",
    "    movie.append((text)) #Getting the code of each movie in the url page\n",
    "    #print(movie)\n",
    "\n",
    "#print(movie)    \n",
    "len(movie)    "
   ]
  },
  {
   "cell_type": "code",
   "execution_count": 118,
   "metadata": {},
   "outputs": [
    {
     "data": {
      "text/plain": [
       "['\"tt5606664\"',\n",
       " '\"tt1560220\"',\n",
       " '\"tt4777008\"',\n",
       " '\"tt4520988\"',\n",
       " '\"tt9243946\"',\n",
       " '\"tt9420648\"',\n",
       " '\"tt11046300\"',\n",
       " '\"tt6521876\"',\n",
       " '\"tt9900782\"',\n",
       " '\"tt6259380\"']"
      ]
     },
     "execution_count": 118,
     "metadata": {},
     "output_type": "execute_result"
    }
   ],
   "source": [
    "count=0\n",
    "title=[]\n",
    "\n",
    "for i in movie:\n",
    "    s=str(movie[count]).split()   \n",
    "    x = re.search('((\".*\"))',s[3])\n",
    "    title.append(x.group())\n",
    "    count=count+1\n",
    "\n",
    "#count \n",
    "#len(title) #[No.of movies selected]\n",
    "title[:10]"
   ]
  },
  {
   "cell_type": "code",
   "execution_count": 119,
   "metadata": {},
   "outputs": [
    {
     "name": "stdout",
     "output_type": "stream",
     "text": [
      "10.62048759063085\n"
     ]
    }
   ],
   "source": [
    "import time\n",
    "pos_reviews=[]\n",
    "neg_reviews=[]\n",
    "count=0\n",
    "\n",
    "start=time.time()\n",
    "\n",
    "for i in title:\n",
    "    a=\"https://www.imdb.com/title/\"\n",
    "    b1=\"/reviews?spoiler=hide&sort=reviewVolume&dir=desc&ratingFilter=1\"\n",
    "    b2=\"/reviews?spoiler=hide&sort=reviewVolume&dir=desc&ratingFilter=2\"\n",
    "    b3=\"/reviews?spoiler=hide&sort=reviewVolume&dir=desc&ratingFilter=3\"\n",
    "    b4=\"/reviews?spoiler=hide&sort=reviewVolume&dir=desc&ratingFilter=4\"\n",
    "    b7=\"/reviews?spoiler=hide&sort=reviewVolume&dir=desc&ratingFilter=7\"\n",
    "    b8=\"/reviews?spoiler=hide&sort=reviewVolume&dir=desc&ratingFilter=8\"\n",
    "    b9=\"/reviews?spoiler=hide&sort=reviewVolume&dir=desc&ratingFilter=9\"\n",
    "    b10=\"/reviews?spoiler=hide&sort=reviewVolume&dir=desc&ratingFilter=10\"\n",
    "    \n",
    "    titlee=title[count].strip('\"\"') #stripping the \"\"\n",
    "    #Concatenating the url link\n",
    "    url1=a+titlee+b1\n",
    "    url2=a+titlee+b2\n",
    "    url3=a+titlee+b3\n",
    "    url4=a+titlee+b4\n",
    "    url7=a+titlee+b7\n",
    "    url8=a+titlee+b8\n",
    "    url9=a+titlee+b9\n",
    "    url10=a+titlee+b10\n",
    "    count=count+1\n",
    "    \n",
    "    #pos=Get_reviews(url7)+Get_reviews(url8)+Get_reviews(url9)+Get_reviews(url10)\n",
    "    #pos_reviews=pos+pos_reviews\n",
    "    pos_reviews=(pos_reviews+Get_reviews(url7)+Get_reviews(url8)+Get_reviews(url9)+Get_reviews(url10))\n",
    "    neg_reviews=(neg_reviews+Get_reviews(url1)+Get_reviews(url2)+Get_reviews(url3)+Get_reviews(url4))\n",
    "\n",
    "end=time.time()\n",
    "\n",
    "et=(end-start)/60\n",
    "print(et)     \n",
    "#Getting all the positive reviews of movie\n",
    "#url7=\"https://www.imdb.com/title/tt4777008/reviews?spoiler=hide&sort=reviewVolume&dir=desc&ratingFilter=7\"\n",
    "#url8=\"https://www.imdb.com/title/tt4777008/reviews?spoiler=hide&sort=reviewVolume&dir=desc&ratingFilter=8\"\n",
    "#url9=\"https://www.imdb.com/title/tt4777008/reviews?spoiler=hide&sort=reviewVolume&dir=desc&ratingFilter=9\"\n",
    "#url10=\"https://www.imdb.com/title/tt4777008/reviews?spoiler=hide&sort=reviewVolume&dir=desc&ratingFilter=10\"\n",
    "#pos_reviews=[]\n",
    "#pos_reviews=(Get_reviews(url7)+Get_reviews(url8)+Get_reviews(url9)+Get_reviews(url10))\n",
    "#neg_reviews=(Get_reviews(url1)+Get_reviews(url2)+Get_reviews(url3))"
   ]
  },
  {
   "cell_type": "code",
   "execution_count": 120,
   "metadata": {},
   "outputs": [
    {
     "data": {
      "text/plain": [
       "1121"
      ]
     },
     "execution_count": 120,
     "metadata": {},
     "output_type": "execute_result"
    }
   ],
   "source": [
    "len(pos_reviews)"
   ]
  },
  {
   "cell_type": "code",
   "execution_count": 121,
   "metadata": {},
   "outputs": [
    {
     "data": {
      "text/plain": [
       "579"
      ]
     },
     "execution_count": 121,
     "metadata": {},
     "output_type": "execute_result"
    }
   ],
   "source": [
    "len(neg_reviews)"
   ]
  },
  {
   "cell_type": "code",
   "execution_count": 122,
   "metadata": {},
   "outputs": [
    {
     "data": {
      "text/html": [
       "<div>\n",
       "<style scoped>\n",
       "    .dataframe tbody tr th:only-of-type {\n",
       "        vertical-align: middle;\n",
       "    }\n",
       "\n",
       "    .dataframe tbody tr th {\n",
       "        vertical-align: top;\n",
       "    }\n",
       "\n",
       "    .dataframe thead th {\n",
       "        text-align: right;\n",
       "    }\n",
       "</style>\n",
       "<table border=\"1\" class=\"dataframe\">\n",
       "  <thead>\n",
       "    <tr style=\"text-align: right;\">\n",
       "      <th></th>\n",
       "      <th>0</th>\n",
       "    </tr>\n",
       "  </thead>\n",
       "  <tbody>\n",
       "    <tr>\n",
       "      <td>0</td>\n",
       "      <td>As a fan of 'The Shining (1980)', the very exi...</td>\n",
       "    </tr>\n",
       "    <tr>\n",
       "      <td>1</td>\n",
       "      <td>Danny Torrence, the boy from The Shining has g...</td>\n",
       "    </tr>\n",
       "    <tr>\n",
       "      <td>2</td>\n",
       "      <td>Doctor SleepThis was a really great movie and ...</td>\n",
       "    </tr>\n",
       "    <tr>\n",
       "      <td>3</td>\n",
       "      <td>I came away from this feeling that Stanley Kub...</td>\n",
       "    </tr>\n",
       "    <tr>\n",
       "      <td>4</td>\n",
       "      <td>In beginning and towards middle part of film i...</td>\n",
       "    </tr>\n",
       "    <tr>\n",
       "      <td>...</td>\n",
       "      <td>...</td>\n",
       "    </tr>\n",
       "    <tr>\n",
       "      <td>1116</td>\n",
       "      <td>While looking for the original, I stumbled ont...</td>\n",
       "    </tr>\n",
       "    <tr>\n",
       "      <td>1117</td>\n",
       "      <td>Unique and colorful comedy paints a different ...</td>\n",
       "    </tr>\n",
       "    <tr>\n",
       "      <td>1118</td>\n",
       "      <td>Directors Ricky Hess, Brandon Thaxton bring us...</td>\n",
       "    </tr>\n",
       "    <tr>\n",
       "      <td>1119</td>\n",
       "      <td>Good horror comedy movie. I laughed out loud s...</td>\n",
       "    </tr>\n",
       "    <tr>\n",
       "      <td>1120</td>\n",
       "      <td>I believe this could have probably been a shor...</td>\n",
       "    </tr>\n",
       "  </tbody>\n",
       "</table>\n",
       "<p>1121 rows × 1 columns</p>\n",
       "</div>"
      ],
      "text/plain": [
       "                                                      0\n",
       "0     As a fan of 'The Shining (1980)', the very exi...\n",
       "1     Danny Torrence, the boy from The Shining has g...\n",
       "2     Doctor SleepThis was a really great movie and ...\n",
       "3     I came away from this feeling that Stanley Kub...\n",
       "4     In beginning and towards middle part of film i...\n",
       "...                                                 ...\n",
       "1116  While looking for the original, I stumbled ont...\n",
       "1117  Unique and colorful comedy paints a different ...\n",
       "1118  Directors Ricky Hess, Brandon Thaxton bring us...\n",
       "1119  Good horror comedy movie. I laughed out loud s...\n",
       "1120  I believe this could have probably been a shor...\n",
       "\n",
       "[1121 rows x 1 columns]"
      ]
     },
     "execution_count": 122,
     "metadata": {},
     "output_type": "execute_result"
    }
   ],
   "source": [
    "import pandas as pd\n",
    "data2=pd.DataFrame(neg_reviews)\n",
    "data2\n",
    "\n",
    "data1=pd.DataFrame(pos_reviews)\n",
    "data1"
   ]
  },
  {
   "cell_type": "code",
   "execution_count": 123,
   "metadata": {},
   "outputs": [
    {
     "data": {
      "text/html": [
       "<div>\n",
       "<style scoped>\n",
       "    .dataframe tbody tr th:only-of-type {\n",
       "        vertical-align: middle;\n",
       "    }\n",
       "\n",
       "    .dataframe tbody tr th {\n",
       "        vertical-align: top;\n",
       "    }\n",
       "\n",
       "    .dataframe thead th {\n",
       "        text-align: right;\n",
       "    }\n",
       "</style>\n",
       "<table border=\"1\" class=\"dataframe\">\n",
       "  <thead>\n",
       "    <tr style=\"text-align: right;\">\n",
       "      <th></th>\n",
       "      <th>0</th>\n",
       "    </tr>\n",
       "  </thead>\n",
       "  <tbody>\n",
       "    <tr>\n",
       "      <td>0</td>\n",
       "      <td>As a fan of 'The Shining (1980)', the very exi...</td>\n",
       "    </tr>\n",
       "    <tr>\n",
       "      <td>1</td>\n",
       "      <td>Danny Torrence, the boy from The Shining has g...</td>\n",
       "    </tr>\n",
       "    <tr>\n",
       "      <td>2</td>\n",
       "      <td>Doctor SleepThis was a really great movie and ...</td>\n",
       "    </tr>\n",
       "    <tr>\n",
       "      <td>3</td>\n",
       "      <td>I came away from this feeling that Stanley Kub...</td>\n",
       "    </tr>\n",
       "    <tr>\n",
       "      <td>4</td>\n",
       "      <td>In beginning and towards middle part of film i...</td>\n",
       "    </tr>\n",
       "  </tbody>\n",
       "</table>\n",
       "</div>"
      ],
      "text/plain": [
       "                                                   0\n",
       "0  As a fan of 'The Shining (1980)', the very exi...\n",
       "1  Danny Torrence, the boy from The Shining has g...\n",
       "2  Doctor SleepThis was a really great movie and ...\n",
       "3  I came away from this feeling that Stanley Kub...\n",
       "4  In beginning and towards middle part of film i..."
      ]
     },
     "execution_count": 123,
     "metadata": {},
     "output_type": "execute_result"
    }
   ],
   "source": [
    "data1.head()"
   ]
  },
  {
   "cell_type": "code",
   "execution_count": 124,
   "metadata": {},
   "outputs": [
    {
     "data": {
      "text/html": [
       "<div>\n",
       "<style scoped>\n",
       "    .dataframe tbody tr th:only-of-type {\n",
       "        vertical-align: middle;\n",
       "    }\n",
       "\n",
       "    .dataframe tbody tr th {\n",
       "        vertical-align: top;\n",
       "    }\n",
       "\n",
       "    .dataframe thead th {\n",
       "        text-align: right;\n",
       "    }\n",
       "</style>\n",
       "<table border=\"1\" class=\"dataframe\">\n",
       "  <thead>\n",
       "    <tr style=\"text-align: right;\">\n",
       "      <th></th>\n",
       "      <th>0</th>\n",
       "    </tr>\n",
       "  </thead>\n",
       "  <tbody>\n",
       "    <tr>\n",
       "      <td>574</td>\n",
       "      <td>Story lines seem like they could've been good ...</td>\n",
       "    </tr>\n",
       "    <tr>\n",
       "      <td>575</td>\n",
       "      <td>A complete waste of time, yes. However, at lea...</td>\n",
       "    </tr>\n",
       "    <tr>\n",
       "      <td>576</td>\n",
       "      <td>First act was interesting, 30 minutes.\\nIt end...</td>\n",
       "    </tr>\n",
       "    <tr>\n",
       "      <td>577</td>\n",
       "      <td>This movie is gross and gory! So if you like t...</td>\n",
       "    </tr>\n",
       "    <tr>\n",
       "      <td>578</td>\n",
       "      <td>One of the worst movies I have seen in a long ...</td>\n",
       "    </tr>\n",
       "  </tbody>\n",
       "</table>\n",
       "</div>"
      ],
      "text/plain": [
       "                                                     0\n",
       "574  Story lines seem like they could've been good ...\n",
       "575  A complete waste of time, yes. However, at lea...\n",
       "576  First act was interesting, 30 minutes.\\nIt end...\n",
       "577  This movie is gross and gory! So if you like t...\n",
       "578  One of the worst movies I have seen in a long ..."
      ]
     },
     "execution_count": 124,
     "metadata": {},
     "output_type": "execute_result"
    }
   ],
   "source": [
    "data2.tail()"
   ]
  },
  {
   "cell_type": "code",
   "execution_count": 115,
   "metadata": {},
   "outputs": [],
   "source": [
    "counter_positive=0\n",
    "counter_negative=0\n",
    "for line in pos_reviews:\n",
    "    f=open(\"C:\\\\Users\\\\Praneet Shetty\\\\ADS\\\\IMDB_WEB\\\\Positive\\\\Positive_\"+str(counter_positive)+\".txt\",\"w+\",encoding=\"utf-8\")\n",
    "    f.write(line)\n",
    "    f.close()\n",
    "    counter_positive=counter_positive+1\n",
    "\n",
    "    \n",
    "    \n",
    "for line in neg_reviews:\n",
    "    f=open(\"C:\\\\Users\\\\Praneet Shetty\\\\ADS\\\\IMDB_WEB\\\\Negative\\\\Negative_\"+str(counter_negative)+\".txt\",\"w+\",encoding=\"utf-8\")\n",
    "    f.write(line)\n",
    "    f.close()\n",
    "    counter_negative=counter_negative+1"
   ]
  }
 ],
 "metadata": {
  "kernelspec": {
   "display_name": "Python 3",
   "language": "python",
   "name": "python3"
  },
  "language_info": {
   "codemirror_mode": {
    "name": "ipython",
    "version": 3
   },
   "file_extension": ".py",
   "mimetype": "text/x-python",
   "name": "python",
   "nbconvert_exporter": "python",
   "pygments_lexer": "ipython3",
   "version": "3.7.4"
  }
 },
 "nbformat": 4,
 "nbformat_minor": 2
}
