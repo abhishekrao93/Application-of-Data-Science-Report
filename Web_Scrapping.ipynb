{
 "cells": [
  {
   "cell_type": "code",
   "execution_count": 259,
   "metadata": {},
   "outputs": [
    {
     "data": {
      "text/plain": [
       "50"
      ]
     },
     "execution_count": 259,
     "metadata": {},
     "output_type": "execute_result"
    }
   ],
   "source": [
    "from requests import get\n",
    "from bs4 import BeautifulSoup\n",
    "url =\"https://www.imdb.com/search/title/?title_type=feature&release_date=2019-10-01,&user_rating=7.0,10.0\"\n",
    "#url =\"https://www.imdb.com/search/title/?title_type=feature,tv_movie&release_date=2019-10-01,2019-10-31\"\n",
    "response=get(url)\n",
    "html_soup=BeautifulSoup(response.text,'html.parser')\n",
    "type(html_soup)\n",
    "movie_containers =html_soup.find_all('div',class_ = 'lister-item mode-advanced')\n",
    "\n",
    "#movie_containers\n",
    "years =[]\n",
    "for container in movie_containers:\n",
    "    text=container.find('div',class_ =\"ribbonize\")\n",
    "    years.append((text))\n",
    "        \n",
    "#len(years)\n",
    "\n",
    "import re\n",
    "count=0\n",
    "title=[]\n",
    "for i in years:\n",
    "    s=str(years[count]).split()   \n",
    "    x = re.search('((\".*\"))',s[3])\n",
    "    title.append(x.group())\n",
    "    count=count+1\n",
    "\n",
    "len(title) #[No.of movies selected]"
   ]
  },
  {
   "cell_type": "code",
   "execution_count": 266,
   "metadata": {},
   "outputs": [],
   "source": [
    "def Get_reviews(url):\n",
    "    response=get(url)\n",
    "    html_soup=BeautifulSoup(response.text,'html.parser')\n",
    "    type(html_soup)\n",
    "    movie_containers =html_soup.find_all('div',class_ = 'lister-item mode-detail imdb-user-review collapsable')\n",
    "\n",
    "    description =[]\n",
    "    for container in movie_containers:               \n",
    "        text=container.find('div',class_ =\"text show-more__control\").text\n",
    "        description.append((text))\n",
    "    return description\n",
    "\n",
    "\n",
    "count=0\n",
    "for i in title:\n",
    "    a=\"https://www.imdb.com/title/\"\n",
    "    b1=\"/reviews?spoiler=hide&sort=reviewVolume&dir=desc&ratingFilter=1\"\n",
    "    b2=\"/reviews?spoiler=hide&sort=reviewVolume&dir=desc&ratingFilter=2\"\n",
    "    b3=\"/reviews?spoiler=hide&sort=reviewVolume&dir=desc&ratingFilter=3\"\n",
    "    b7=\"/reviews?spoiler=hide&sort=reviewVolume&dir=desc&ratingFilter=7\"\n",
    "    b8=\"/reviews?spoiler=hide&sort=reviewVolume&dir=desc&ratingFilter=8\"\n",
    "    b9=\"/reviews?spoiler=hide&sort=reviewVolume&dir=desc&ratingFilter=9\"\n",
    "    b10=\"/reviews?spoiler=hide&sort=reviewVolume&dir=desc&ratingFilter=10\"\n",
    "    \n",
    "    titlee=title[count].strip('\"\"')\n",
    "    url1=a+titlee+b1\n",
    "    url2=a+titlee+b2\n",
    "    url3=a+titlee+b3\n",
    "    url7=a+titlee+b7\n",
    "    url8=a+titlee+b8\n",
    "    url9=a+titlee+b9\n",
    "    url10=a+titlee+b10\n",
    "    count=count+1\n",
    "    \n",
    "    pos_reviews=(pos_reviews+Get_reviews(url7)+Get_reviews(url8)+Get_reviews(url9)+Get_reviews(url10))\n",
    "    neg_reviews=(neg_reviews+Get_reviews(url1)+Get_reviews(url2)+Get_reviews(url3))\n",
    "\n",
    "\n",
    "\n",
    "\n",
    "\n",
    "\n",
    "\n",
    "\n",
    "\n",
    "\n",
    "\n",
    "        \n",
    "        \n",
    "#Getting all the positive reviews of movie\n",
    "#url7=\"https://www.imdb.com/title/tt4777008/reviews?spoiler=hide&sort=reviewVolume&dir=desc&ratingFilter=7\"\n",
    "#url8=\"https://www.imdb.com/title/tt4777008/reviews?spoiler=hide&sort=reviewVolume&dir=desc&ratingFilter=8\"\n",
    "#url9=\"https://www.imdb.com/title/tt4777008/reviews?spoiler=hide&sort=reviewVolume&dir=desc&ratingFilter=9\"\n",
    "#url10=\"https://www.imdb.com/title/tt4777008/reviews?spoiler=hide&sort=reviewVolume&dir=desc&ratingFilter=10\"\n",
    "#pos_reviews=[]\n",
    "#pos_reviews=(Get_reviews(url7)+Get_reviews(url8)+Get_reviews(url9)+Get_reviews(url10))\n",
    "#neg_reviews=(Get_reviews(url1)+Get_reviews(url2)+Get_reviews(url3))"
   ]
  },
  {
   "cell_type": "code",
   "execution_count": 267,
   "metadata": {},
   "outputs": [
    {
     "data": {
      "text/plain": [
       "1552"
      ]
     },
     "execution_count": 267,
     "metadata": {},
     "output_type": "execute_result"
    }
   ],
   "source": [
    "len(pos_reviews)"
   ]
  },
  {
   "cell_type": "code",
   "execution_count": 268,
   "metadata": {},
   "outputs": [
    {
     "data": {
      "text/plain": [
       "397"
      ]
     },
     "execution_count": 268,
     "metadata": {},
     "output_type": "execute_result"
    }
   ],
   "source": [
    "len(neg_reviews)"
   ]
  },
  {
   "cell_type": "code",
   "execution_count": 270,
   "metadata": {},
   "outputs": [
    {
     "data": {
      "text/html": [
       "<div>\n",
       "<style scoped>\n",
       "    .dataframe tbody tr th:only-of-type {\n",
       "        vertical-align: middle;\n",
       "    }\n",
       "\n",
       "    .dataframe tbody tr th {\n",
       "        vertical-align: top;\n",
       "    }\n",
       "\n",
       "    .dataframe thead th {\n",
       "        text-align: right;\n",
       "    }\n",
       "</style>\n",
       "<table border=\"1\" class=\"dataframe\">\n",
       "  <thead>\n",
       "    <tr style=\"text-align: right;\">\n",
       "      <th></th>\n",
       "      <th>0</th>\n",
       "    </tr>\n",
       "  </thead>\n",
       "  <tbody>\n",
       "    <tr>\n",
       "      <td>0</td>\n",
       "      <td>Not realistic. This movie was supposed to be f...</td>\n",
       "    </tr>\n",
       "    <tr>\n",
       "      <td>1</td>\n",
       "      <td>Just like most Disney films it's forgettable. ...</td>\n",
       "    </tr>\n",
       "    <tr>\n",
       "      <td>2</td>\n",
       "      <td>What a waste of 25 quid.Enjoyed the first one ...</td>\n",
       "    </tr>\n",
       "    <tr>\n",
       "      <td>3</td>\n",
       "      <td>There was a mixture of old themes such as the ...</td>\n",
       "    </tr>\n",
       "    <tr>\n",
       "      <td>4</td>\n",
       "      <td>So bad, better see Gemini Man.\\nOr Joker\\nOr a...</td>\n",
       "    </tr>\n",
       "    <tr>\n",
       "      <td>...</td>\n",
       "      <td>...</td>\n",
       "    </tr>\n",
       "    <tr>\n",
       "      <td>392</td>\n",
       "      <td>Trash movie don't waste your time because of r...</td>\n",
       "    </tr>\n",
       "    <tr>\n",
       "      <td>393</td>\n",
       "      <td>Little entertaining... Bt not so good to worth...</td>\n",
       "    </tr>\n",
       "    <tr>\n",
       "      <td>394</td>\n",
       "      <td>This movie is on some crack or smoking blunts....</td>\n",
       "    </tr>\n",
       "    <tr>\n",
       "      <td>395</td>\n",
       "      <td>Very poor acting of each and every actor....an...</td>\n",
       "    </tr>\n",
       "    <tr>\n",
       "      <td>396</td>\n",
       "      <td>Not realistic. This movie was supposed to be f...</td>\n",
       "    </tr>\n",
       "  </tbody>\n",
       "</table>\n",
       "<p>397 rows × 1 columns</p>\n",
       "</div>"
      ],
      "text/plain": [
       "                                                     0\n",
       "0    Not realistic. This movie was supposed to be f...\n",
       "1    Just like most Disney films it's forgettable. ...\n",
       "2    What a waste of 25 quid.Enjoyed the first one ...\n",
       "3    There was a mixture of old themes such as the ...\n",
       "4    So bad, better see Gemini Man.\\nOr Joker\\nOr a...\n",
       "..                                                 ...\n",
       "392  Trash movie don't waste your time because of r...\n",
       "393  Little entertaining... Bt not so good to worth...\n",
       "394  This movie is on some crack or smoking blunts....\n",
       "395  Very poor acting of each and every actor....an...\n",
       "396  Not realistic. This movie was supposed to be f...\n",
       "\n",
       "[397 rows x 1 columns]"
      ]
     },
     "execution_count": 270,
     "metadata": {},
     "output_type": "execute_result"
    }
   ],
   "source": [
    "import pandas as pd\n",
    "data1=pd.DataFrame(neg_reviews)\n",
    "data1"
   ]
  },
  {
   "cell_type": "code",
   "execution_count": 272,
   "metadata": {},
   "outputs": [],
   "source": [
    "counter_positive=0\n",
    "counter_negative=0\n",
    "for line in pos_reviews:\n",
    "    f=open(\"C:\\\\Users\\\\Praneet Shetty\\\\ADS\\\\IMDB_WEB\\\\Positive\\\\Positive_\"+str(counter_positive)+\".txt\",\"w+\",encoding=\"utf-8\")\n",
    "    f.write(line)\n",
    "    f.close()\n",
    "    counter_positive=counter_positive+1\n",
    "\n",
    "    \n",
    "    \n",
    "for line in neg_reviews:\n",
    "    f=open(\"C:\\\\Users\\\\Praneet Shetty\\\\ADS\\\\IMDB_WEB\\\\Negative\\\\Negative_\"+str(counter_negative)+\".txt\",\"w+\",encoding=\"utf-8\")\n",
    "    f.write(line)\n",
    "    f.close()\n",
    "    counter_negative=counter_negative+1"
   ]
  },
  {
   "cell_type": "code",
   "execution_count": null,
   "metadata": {},
   "outputs": [],
   "source": []
  }
 ],
 "metadata": {
  "kernelspec": {
   "display_name": "Python 3",
   "language": "python",
   "name": "python3"
  }
 },
 "nbformat": 4,
 "nbformat_minor": 2
}
